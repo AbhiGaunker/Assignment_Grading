{
  "nbformat": 4,
  "nbformat_minor": 0,
  "metadata": {
    "colab": {
      "provenance": []
    },
    "kernelspec": {
      "name": "python3",
      "display_name": "Python 3"
    },
    "language_info": {
      "name": "python"
    }
  },
  "cells": [
    {
      "cell_type": "markdown",
      "source": [
        "#TOPIC: Python Basics Variable"
      ],
      "metadata": {
        "id": "s4xN7zIUAAUz"
      }
    },
    {
      "cell_type": "markdown",
      "source": [
        "###1.\n",
        "Declare two variables, `x` and `y`, and assign them integer values. Swap the\n",
        "values of these variables without using any temporary variable."
      ],
      "metadata": {
        "id": "Yj3lfSx0_6Tz"
      }
    },
    {
      "cell_type": "code",
      "execution_count": 6,
      "metadata": {
        "id": "Dj0ixZZq-iNO"
      },
      "outputs": [],
      "source": [
        "x=5\n",
        "y=10"
      ]
    },
    {
      "cell_type": "code",
      "source": [
        "print(\"x:\",x)\n",
        "print(\"y:\",y)\n",
        "\n",
        "x,y = y,x\n",
        "print(\"\\nAfter Swapping:\\n\")\n",
        "\n",
        "print(\"x:\",x)\n",
        "print(\"y:\",y)"
      ],
      "metadata": {
        "colab": {
          "base_uri": "https://localhost:8080/"
        },
        "id": "UVjGM-qN_P3t",
        "outputId": "42595067-f8f6-4252-ed95-0a7dee050df8"
      },
      "execution_count": 7,
      "outputs": [
        {
          "output_type": "stream",
          "name": "stdout",
          "text": [
            "x: 5\n",
            "y: 10\n",
            "\n",
            "After Swapping:\n",
            "\n",
            "x: 10\n",
            "y: 5\n"
          ]
        }
      ]
    },
    {
      "cell_type": "markdown",
      "source": [
        "###2.\n",
        "Create a program that calculates the area of a rectangle. Take the length and\n",
        "width as inputs from the user and store them in variables. Calculate and\n",
        "display the area.\n"
      ],
      "metadata": {
        "id": "HjDNV1gLAJLR"
      }
    },
    {
      "cell_type": "code",
      "source": [
        "l = int(input(\"Enter length : \"))\n",
        "b = int(input(\"Enter width : \"))"
      ],
      "metadata": {
        "colab": {
          "base_uri": "https://localhost:8080/"
        },
        "id": "5n7XoVjc_Xvb",
        "outputId": "f1ba38fc-744a-44af-9adf-ab35b52013fb"
      },
      "execution_count": 11,
      "outputs": [
        {
          "name": "stdout",
          "output_type": "stream",
          "text": [
            "Enter length : 20\n",
            "Enter width : 5\n"
          ]
        }
      ]
    },
    {
      "cell_type": "code",
      "source": [
        "print(\"area of triangle: \",l*b)"
      ],
      "metadata": {
        "colab": {
          "base_uri": "https://localhost:8080/"
        },
        "id": "9j75e8L_AUg8",
        "outputId": "a4022bf3-19f8-463f-8abe-b655d10cb1ba"
      },
      "execution_count": 12,
      "outputs": [
        {
          "output_type": "stream",
          "name": "stdout",
          "text": [
            "area of triangle:  100\n"
          ]
        }
      ]
    },
    {
      "cell_type": "markdown",
      "source": [
        "###3.\n",
        "Write a Python program that converts temperatures from Celsius to\n",
        "Fahrenheit. Take the temperature in Celsius as input, store it in a variable,\n",
        "convert it to Fahrenheit, and display the result."
      ],
      "metadata": {
        "id": "LzQpTtv4A3FY"
      }
    },
    {
      "cell_type": "code",
      "source": [
        "cel = float(input(\"Enter the temperature in celsius: \"))"
      ],
      "metadata": {
        "colab": {
          "base_uri": "https://localhost:8080/"
        },
        "id": "Zd3--pXsAqGq",
        "outputId": "05c88d26-98d5-4b51-b144-b967e11222ee"
      },
      "execution_count": 17,
      "outputs": [
        {
          "name": "stdout",
          "output_type": "stream",
          "text": [
            "Enter the temperature in celsius: 5.5\n"
          ]
        }
      ]
    },
    {
      "cell_type": "markdown",
      "source": [],
      "metadata": {
        "id": "FX29LgMlCPVF"
      }
    },
    {
      "cell_type": "code",
      "source": [
        "far = ((cel*9)/5)+32"
      ],
      "metadata": {
        "id": "92TSZa11BNRQ"
      },
      "execution_count": 18,
      "outputs": []
    },
    {
      "cell_type": "code",
      "source": [
        "print(\"temperature in fahrenheit: \",far)"
      ],
      "metadata": {
        "colab": {
          "base_uri": "https://localhost:8080/"
        },
        "id": "FIPr4JMiBeTA",
        "outputId": "4ce43870-3db1-456b-f57f-c7b67ad9a730"
      },
      "execution_count": 22,
      "outputs": [
        {
          "output_type": "stream",
          "name": "stdout",
          "text": [
            "temperature in fahrenheit:  41.9\n"
          ]
        }
      ]
    },
    {
      "cell_type": "markdown",
      "source": [
        "# TOPIC: String Based Questions"
      ],
      "metadata": {
        "id": "YDTl0DmSCLy_"
      }
    },
    {
      "cell_type": "markdown",
      "source": [
        "###1.\n",
        "Write a Python program that takes a string as input and prints the length of the string."
      ],
      "metadata": {
        "id": "VbOGn9UcCRzY"
      }
    },
    {
      "cell_type": "code",
      "source": [
        "string = input(\"Enter the string: \")\n",
        "print(\"length of string: \", len(string))"
      ],
      "metadata": {
        "colab": {
          "base_uri": "https://localhost:8080/"
        },
        "id": "qn0W0FtoCQyo",
        "outputId": "c48fd2fd-5b45-4fd1-c650-8dddaeb65eb7"
      },
      "execution_count": 23,
      "outputs": [
        {
          "output_type": "stream",
          "name": "stdout",
          "text": [
            "Enter the string: Good morning, take care sir\n",
            "length of string:  27\n"
          ]
        }
      ]
    },
    {
      "cell_type": "markdown",
      "source": [
        "###2.\n",
        "Create a program that takes a sentence from the user and counts the number\n",
        "of vowels (a, e, i, o, u) in the string."
      ],
      "metadata": {
        "id": "Dqr2HRV-C_vK"
      }
    },
    {
      "cell_type": "code",
      "source": [
        "string = input(\"Enter the string: \")\n",
        "count = 0\n",
        "for letter in string:\n",
        "    if letter.lower() in ['a','e','i','o','u']:\n",
        "        count+=1\n",
        "print(\"number of vowels: \", count)"
      ],
      "metadata": {
        "colab": {
          "base_uri": "https://localhost:8080/"
        },
        "id": "GEBc1U2JC3LL",
        "outputId": "03d56f2a-185b-4565-9c7c-d941d17f7ed5"
      },
      "execution_count": 26,
      "outputs": [
        {
          "output_type": "stream",
          "name": "stdout",
          "text": [
            "Enter the string: Almost done with the Assignment\n",
            "number of vowels:  9\n"
          ]
        }
      ]
    },
    {
      "cell_type": "markdown",
      "source": [
        "###3.\n",
        "Given a string, reverse the order of characters using string slicing and print\n",
        "the reversed string."
      ],
      "metadata": {
        "id": "8t1VUdHDEQQy"
      }
    },
    {
      "cell_type": "code",
      "source": [
        "string = input(\"Enter the string: \")\n",
        "print(\"Reverse string: \",string[::-1])"
      ],
      "metadata": {
        "colab": {
          "base_uri": "https://localhost:8080/"
        },
        "id": "r9kDTFB5Dx4E",
        "outputId": "983bfac4-3b62-482a-eb51-1046f3c21bc4"
      },
      "execution_count": 28,
      "outputs": [
        {
          "output_type": "stream",
          "name": "stdout",
          "text": [
            "Enter the string: my neurons are mine\n",
            "Reverse string:  enim era snoruen ym\n"
          ]
        }
      ]
    },
    {
      "cell_type": "markdown",
      "source": [
        "### 4.\n",
        "Write a program that takes a string as input and checks if it is a palindrome\n",
        "(reads the same forwards and backwards)."
      ],
      "metadata": {
        "id": "PO83P4BAEuEh"
      }
    },
    {
      "cell_type": "code",
      "source": [
        "string = input(\"Enter the string: \")\n",
        "if string.lower() == string[::-1].lower() :\n",
        "    print(\"Pallindrone: \", string)\n",
        "else:\n",
        "    print(\"Not Pallindrone: \", string)"
      ],
      "metadata": {
        "colab": {
          "base_uri": "https://localhost:8080/"
        },
        "id": "VT5h2inAEZjF",
        "outputId": "f7a74d36-ec05-445d-8537-4ffdbcfcb86a"
      },
      "execution_count": 32,
      "outputs": [
        {
          "output_type": "stream",
          "name": "stdout",
          "text": [
            "Enter the string: Mom\n",
            "Pallindrone:  Mom\n"
          ]
        }
      ]
    },
    {
      "cell_type": "markdown",
      "source": [
        "###5.\n",
        "Create a program that takes a string as input and removes all the spaces from\n",
        "it. Print the modified string without spaces."
      ],
      "metadata": {
        "id": "UoHKiWZnFpfk"
      }
    },
    {
      "cell_type": "code",
      "source": [
        "string = input(\"Enter the string: \")\n",
        "print(\"String without space\", string.replace(' ',''))"
      ],
      "metadata": {
        "colab": {
          "base_uri": "https://localhost:8080/"
        },
        "id": "ASqFvxOZFAkK",
        "outputId": "44a8513f-a378-4757-909e-c6324f53996d"
      },
      "execution_count": 34,
      "outputs": [
        {
          "output_type": "stream",
          "name": "stdout",
          "text": [
            "Enter the string: I am done with all the assignment, Yeah!!\n",
            "String without space Iamdonewithalltheassignment,Yeah!!\n"
          ]
        }
      ]
    }
  ]
}
